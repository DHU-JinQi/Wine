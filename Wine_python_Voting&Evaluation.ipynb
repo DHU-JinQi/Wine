{
 "cells": [
  {
   "cell_type": "code",
   "execution_count": 1,
   "metadata": {},
   "outputs": [],
   "source": [
    "import numpy as np\n",
    "import pandas as pd\n",
    "import time\n",
    "import matplotlib.pyplot as plt\n",
    "\n",
    "from sklearn.model_selection import train_test_split\n",
    "from sklearn.model_selection import cross_val_score\n",
    "\n",
    "from sklearn.preprocessing import MinMaxScaler\n",
    "\n",
    "from sklearn.svm import SVC\n",
    "from sklearn.neighbors import KNeighborsClassifier\n",
    "from sklearn.linear_model import LogisticRegression\n",
    "from sklearn.ensemble import RandomForestClassifier\n",
    "from sklearn.ensemble import GradientBoostingClassifier\n",
    "from sklearn.ensemble import BaggingClassifier\n",
    "from sklearn.ensemble import ExtraTreesClassifier\n",
    "from sklearn.ensemble import VotingClassifier\n",
    "from sklearn.tree import DecisionTreeClassifier\n",
    "from xgboost import XGBClassifier\n",
    "\n",
    "from sklearn.metrics import accuracy_score\n",
    "from sklearn.metrics import confusion_matrix\n",
    "from sklearn.metrics import cohen_kappa_score"
   ]
  },
  {
   "cell_type": "code",
   "execution_count": 2,
   "metadata": {},
   "outputs": [],
   "source": [
    "data=pd.read_csv(r'Wine.csv')"
   ]
  },
  {
   "cell_type": "code",
   "execution_count": 3,
   "metadata": {},
   "outputs": [
    {
     "name": "stderr",
     "output_type": "stream",
     "text": [
      "D:\\Program Files\\Anaconda3\\lib\\site-packages\\sklearn\\preprocessing\\data.py:323: DataConversionWarning: Data with input dtype int64, float64 were all converted to float64 by MinMaxScaler.\n",
      "  return self.partial_fit(X, y)\n",
      "D:\\Program Files\\Anaconda3\\lib\\site-packages\\ipykernel_launcher.py:5: FutureWarning: Method .as_matrix will be removed in a future version. Use .values instead.\n",
      "  \"\"\"\n"
     ]
    }
   ],
   "source": [
    "scaler=MinMaxScaler()\n",
    "scaler.fit(data)\n",
    "scaled_data=scaler.transform(data)\n",
    "X=scaled_data[:,0:13]\n",
    "Y=data['quality'].as_matrix()\n",
    "x_train,x_test,y_train,y_test=train_test_split(X,Y,test_size=0.3,random_state=23)"
   ]
  },
  {
   "cell_type": "code",
   "execution_count": 4,
   "metadata": {},
   "outputs": [],
   "source": [
    "clf_KNN=KNeighborsClassifier(algorithm='auto', leaf_size=30\n",
    "                             , metric='minkowski',metric_params=None\n",
    "                             , n_jobs=-1, n_neighbors=1\n",
    "                             , p=2,weights='uniform')\n",
    "clf_SVC=SVC(C=40, cache_size=200, class_weight=None, coef0=0.0\n",
    "            ,decision_function_shape='ovr', degree=3, gamma=140, kernel='rbf'\n",
    "            ,max_iter=-1, probability=False, random_state=None, shrinking=True,\n",
    "            tol=0.001, verbose=0)\n",
    "clf_LR=LogisticRegression(C=1, class_weight=None, dual=False, fit_intercept=True\n",
    "                          ,intercept_scaling=1, max_iter=100, multi_class='warn'\n",
    "                          ,n_jobs=-1, penalty='l1', random_state=None\n",
    "                          , solver='warn',tol=0.0001, verbose=0, warm_start=False)\n",
    "clf_Tree=DecisionTreeClassifier(class_weight=None, criterion='gini', max_depth=None\n",
    "                                ,max_features=None, max_leaf_nodes=None,min_impurity_decrease=1e-05\n",
    "                                , min_impurity_split=None,min_samples_leaf=1, min_samples_split=2\n",
    "                                ,min_weight_fraction_leaf=0.0, presort=False, random_state=None,splitter='best')\n",
    "clf_GB=GradientBoostingClassifier(criterion='friedman_mse', init=None,\n",
    "                                  learning_rate=0.1, loss='deviance', max_depth=3,\n",
    "                                  max_features=None, max_leaf_nodes=None,\n",
    "                                  min_impurity_decrease=0.0, min_impurity_split=None,\n",
    "                                  min_samples_leaf=1, min_samples_split=2,\n",
    "                                  min_weight_fraction_leaf=0.0, n_estimators=800,\n",
    "                                  n_iter_no_change=None, presort='auto', random_state=None,\n",
    "                                  subsample=1.0, tol=0.0001, validation_fraction=0.1,\n",
    "                                  verbose=0, warm_start=False)\n",
    "clf_RF=RandomForestClassifier(bootstrap=True, class_weight=None, criterion='gini',\n",
    "                              max_depth=None, max_features='log2', max_leaf_nodes=None,\n",
    "                              min_impurity_decrease=0.0, min_impurity_split=None,\n",
    "                              min_samples_leaf=1, min_samples_split=2,\n",
    "                              min_weight_fraction_leaf=0.0, n_estimators=500, n_jobs=-1,\n",
    "                              oob_score=False, random_state=None, verbose=0,\n",
    "                              warm_start=False)\n",
    "clf_Bagging=BaggingClassifier(base_estimator=None, bootstrap=True,\n",
    "                              bootstrap_features=False, max_features=1.0, max_samples=1.0,\n",
    "                              n_estimators=500, n_jobs=-1, oob_score=False, random_state=None,\n",
    "                              verbose=0, warm_start=False)\n",
    "clf_ExtraTrees=ExtraTreesClassifier(bootstrap=True, class_weight=None, criterion='gini',\n",
    "                                    max_depth=None, max_features='auto', max_leaf_nodes=None,\n",
    "                                    min_impurity_decrease=0.0, min_impurity_split=None,\n",
    "                                    min_samples_leaf=1, min_samples_split=2,\n",
    "                                    min_weight_fraction_leaf=0.0, n_estimators=300, n_jobs=-1,\n",
    "                                    oob_score=False, random_state=None, verbose=0, warm_start=False)\n",
    "clf_XGB=XGBClassifier(base_score=0.5, booster='gbtree', colsample_bylevel=1,\n",
    "                      colsample_bytree=0.6, gamma=0.1, learning_rate=0.1,\n",
    "                      max_delta_step=0, max_depth=15, min_child_weight=1, min_weight=1,\n",
    "                      missing=None, n_estimators=100, n_jobs=-1, nthread=None,\n",
    "                      objective='multi:softprob', random_state=0, reg_alpha=0.01,\n",
    "                      reg_lambda=5, scale_pos_weight=1, seed=None, silent=True,\n",
    "                      subsample=0.9)"
   ]
  },
  {
   "cell_type": "code",
   "execution_count": 5,
   "metadata": {
    "scrolled": false
   },
   "outputs": [
    {
     "name": "stderr",
     "output_type": "stream",
     "text": [
      "D:\\Program Files\\Anaconda3\\lib\\site-packages\\sklearn\\model_selection\\_split.py:626: Warning: The least populated class in y has only 2 members, which is too few. The minimum number of members in any class cannot be less than n_splits=5.\n",
      "  % (min_groups, self.n_splits)), Warning)\n",
      "D:\\Program Files\\Anaconda3\\lib\\site-packages\\sklearn\\model_selection\\_split.py:626: Warning: The least populated class in y has only 2 members, which is too few. The minimum number of members in any class cannot be less than n_splits=5.\n",
      "  % (min_groups, self.n_splits)), Warning)\n",
      "D:\\Program Files\\Anaconda3\\lib\\site-packages\\sklearn\\linear_model\\logistic.py:432: FutureWarning: Default solver will be changed to 'lbfgs' in 0.22. Specify a solver to silence this warning.\n",
      "  FutureWarning)\n",
      "D:\\Program Files\\Anaconda3\\lib\\site-packages\\sklearn\\linear_model\\logistic.py:459: FutureWarning: Default multi_class will be changed to 'auto' in 0.22. Specify the multi_class option to silence this warning.\n",
      "  \"this warning.\", FutureWarning)\n",
      "D:\\Program Files\\Anaconda3\\lib\\site-packages\\sklearn\\linear_model\\logistic.py:1296: UserWarning: 'n_jobs' > 1 does not have any effect when 'solver' is set to 'liblinear'. Got 'n_jobs' = 8.\n",
      "  \" = {}.\".format(effective_n_jobs(self.n_jobs)))\n",
      "D:\\Program Files\\Anaconda3\\lib\\site-packages\\sklearn\\model_selection\\_split.py:626: Warning: The least populated class in y has only 2 members, which is too few. The minimum number of members in any class cannot be less than n_splits=5.\n",
      "  % (min_groups, self.n_splits)), Warning)\n",
      "D:\\Program Files\\Anaconda3\\lib\\site-packages\\sklearn\\model_selection\\_split.py:626: Warning: The least populated class in y has only 2 members, which is too few. The minimum number of members in any class cannot be less than n_splits=5.\n",
      "  % (min_groups, self.n_splits)), Warning)\n",
      "D:\\Program Files\\Anaconda3\\lib\\site-packages\\sklearn\\model_selection\\_split.py:626: Warning: The least populated class in y has only 2 members, which is too few. The minimum number of members in any class cannot be less than n_splits=5.\n",
      "  % (min_groups, self.n_splits)), Warning)\n",
      "D:\\Program Files\\Anaconda3\\lib\\site-packages\\sklearn\\model_selection\\_split.py:626: Warning: The least populated class in y has only 2 members, which is too few. The minimum number of members in any class cannot be less than n_splits=5.\n",
      "  % (min_groups, self.n_splits)), Warning)\n",
      "D:\\Program Files\\Anaconda3\\lib\\site-packages\\sklearn\\model_selection\\_split.py:626: Warning: The least populated class in y has only 2 members, which is too few. The minimum number of members in any class cannot be less than n_splits=5.\n",
      "  % (min_groups, self.n_splits)), Warning)\n",
      "D:\\Program Files\\Anaconda3\\lib\\site-packages\\sklearn\\model_selection\\_split.py:626: Warning: The least populated class in y has only 2 members, which is too few. The minimum number of members in any class cannot be less than n_splits=5.\n",
      "  % (min_groups, self.n_splits)), Warning)\n",
      "D:\\Program Files\\Anaconda3\\lib\\site-packages\\sklearn\\model_selection\\_split.py:626: Warning: The least populated class in y has only 2 members, which is too few. The minimum number of members in any class cannot be less than n_splits=5.\n",
      "  % (min_groups, self.n_splits)), Warning)\n"
     ]
    }
   ],
   "source": [
    "clf=[clf_KNN,clf_SVC,clf_LR,clf_Tree,clf_GB,clf_RF,clf_Bagging,clf_ExtraTrees,clf_XGB]\n",
    "clf_names=['KNN','SVC','LR','Tree','GB','RF','Bagging','ExtraTrees','XGB']\n",
    "accuracy = []\n",
    "i=0\n",
    "t=[]\n",
    "for m in range(len(clf)):\n",
    "    time_start = time.time()\n",
    "    clf[i].fit(x_train,y_train)\n",
    "    score = cross_val_score(clf[i],x_train,y_train, cv=5, scoring='accuracy',n_jobs=-1).mean()\n",
    "    time_end = time.time()\n",
    "    t.append(time_end-time_start)\n",
    "    accuracy.append(score)\n",
    "    i=i+1\n",
    "result_frame=pd.DataFrame({'Model':clf_names,'Accuracy':accuracy,'Time':t})"
   ]
  },
  {
   "cell_type": "code",
   "execution_count": 6,
   "metadata": {
    "scrolled": false
   },
   "outputs": [
    {
     "data": {
      "text/html": [
       "<div>\n",
       "<style scoped>\n",
       "    .dataframe tbody tr th:only-of-type {\n",
       "        vertical-align: middle;\n",
       "    }\n",
       "\n",
       "    .dataframe tbody tr th {\n",
       "        vertical-align: top;\n",
       "    }\n",
       "\n",
       "    .dataframe thead th {\n",
       "        text-align: right;\n",
       "    }\n",
       "</style>\n",
       "<table border=\"1\" class=\"dataframe\">\n",
       "  <thead>\n",
       "    <tr style=\"text-align: right;\">\n",
       "      <th></th>\n",
       "      <th>Model</th>\n",
       "      <th>Accuracy</th>\n",
       "      <th>Time</th>\n",
       "    </tr>\n",
       "  </thead>\n",
       "  <tbody>\n",
       "    <tr>\n",
       "      <th>0</th>\n",
       "      <td>KNN</td>\n",
       "      <td>0.586297</td>\n",
       "      <td>2.375631</td>\n",
       "    </tr>\n",
       "    <tr>\n",
       "      <th>1</th>\n",
       "      <td>SVC</td>\n",
       "      <td>0.618860</td>\n",
       "      <td>5.065210</td>\n",
       "    </tr>\n",
       "    <tr>\n",
       "      <th>2</th>\n",
       "      <td>LR</td>\n",
       "      <td>0.534404</td>\n",
       "      <td>1.059170</td>\n",
       "    </tr>\n",
       "    <tr>\n",
       "      <th>3</th>\n",
       "      <td>Tree</td>\n",
       "      <td>0.565426</td>\n",
       "      <td>0.089760</td>\n",
       "    </tr>\n",
       "    <tr>\n",
       "      <th>4</th>\n",
       "      <td>GB</td>\n",
       "      <td>0.631393</td>\n",
       "      <td>43.224946</td>\n",
       "    </tr>\n",
       "    <tr>\n",
       "      <th>5</th>\n",
       "      <td>RF</td>\n",
       "      <td>0.660395</td>\n",
       "      <td>6.089419</td>\n",
       "    </tr>\n",
       "    <tr>\n",
       "      <th>6</th>\n",
       "      <td>Bagging</td>\n",
       "      <td>0.651391</td>\n",
       "      <td>17.044663</td>\n",
       "    </tr>\n",
       "    <tr>\n",
       "      <th>7</th>\n",
       "      <td>ExtraTrees</td>\n",
       "      <td>0.666792</td>\n",
       "      <td>2.413758</td>\n",
       "    </tr>\n",
       "    <tr>\n",
       "      <th>8</th>\n",
       "      <td>XGB</td>\n",
       "      <td>0.662835</td>\n",
       "      <td>14.900555</td>\n",
       "    </tr>\n",
       "  </tbody>\n",
       "</table>\n",
       "</div>"
      ],
      "text/plain": [
       "        Model  Accuracy       Time\n",
       "0         KNN  0.586297   2.375631\n",
       "1         SVC  0.618860   5.065210\n",
       "2          LR  0.534404   1.059170\n",
       "3        Tree  0.565426   0.089760\n",
       "4          GB  0.631393  43.224946\n",
       "5          RF  0.660395   6.089419\n",
       "6     Bagging  0.651391  17.044663\n",
       "7  ExtraTrees  0.666792   2.413758\n",
       "8         XGB  0.662835  14.900555"
      ]
     },
     "execution_count": 6,
     "metadata": {},
     "output_type": "execute_result"
    }
   ],
   "source": [
    "result_frame"
   ]
  },
  {
   "cell_type": "code",
   "execution_count": 7,
   "metadata": {},
   "outputs": [
    {
     "name": "stderr",
     "output_type": "stream",
     "text": [
      "D:\\Program Files\\Anaconda3\\lib\\site-packages\\sklearn\\model_selection\\_split.py:626: Warning: The least populated class in y has only 2 members, which is too few. The minimum number of members in any class cannot be less than n_splits=5.\n",
      "  % (min_groups, self.n_splits)), Warning)\n"
     ]
    },
    {
     "data": {
      "text/plain": [
       "65.54790544509888"
      ]
     },
     "execution_count": 7,
     "metadata": {},
     "output_type": "execute_result"
    }
   ],
   "source": [
    "time_start = time.time()\n",
    "clf_stacking_op1=VotingClassifier(estimators=[('KNN',clf_KNN)\n",
    "                                          ,('SVM',clf_SVC)\n",
    "                                          ,('LogisticsR', clf_LR)\n",
    "                                          ,('DecisionTree', clf_Tree)\n",
    "                                          ,('GradientBoostingClassifier', clf_GB)\n",
    "                                          ,('RandomForestClassifier', clf_RF)\n",
    "                                          , ('BaggingClassifier', clf_Bagging)\n",
    "                                          , ('ExtraTreesClassifier', clf_ExtraTrees)\n",
    "                                          ,('Xgboost', clf_XGB)]\n",
    "                                            ,voting='hard')\n",
    "stacking_score_op1=cross_val_score(clf_stacking_op1,x_train,y_train, cv=5, scoring='accuracy',n_jobs=-1).mean()\n",
    "time_end = time.time()\n",
    "time_end-time_start"
   ]
  },
  {
   "cell_type": "code",
   "execution_count": 8,
   "metadata": {},
   "outputs": [
    {
     "data": {
      "text/plain": [
       "0.6615099245941386"
      ]
     },
     "execution_count": 8,
     "metadata": {},
     "output_type": "execute_result"
    }
   ],
   "source": [
    "stacking_score_op1"
   ]
  },
  {
   "cell_type": "code",
   "execution_count": 9,
   "metadata": {},
   "outputs": [
    {
     "name": "stderr",
     "output_type": "stream",
     "text": [
      "D:\\Program Files\\Anaconda3\\lib\\site-packages\\sklearn\\linear_model\\logistic.py:432: FutureWarning: Default solver will be changed to 'lbfgs' in 0.22. Specify a solver to silence this warning.\n",
      "  FutureWarning)\n",
      "D:\\Program Files\\Anaconda3\\lib\\site-packages\\sklearn\\linear_model\\logistic.py:459: FutureWarning: Default multi_class will be changed to 'auto' in 0.22. Specify the multi_class option to silence this warning.\n",
      "  \"this warning.\", FutureWarning)\n"
     ]
    },
    {
     "data": {
      "text/plain": [
       "VotingClassifier(estimators=[('KNN', KNeighborsClassifier(algorithm='auto', leaf_size=30, metric='minkowski',\n",
       "           metric_params=None, n_jobs=-1, n_neighbors=1, p=2,\n",
       "           weights='uniform')), ('SVM', SVC(C=40, cache_size=200, class_weight=None, coef0=0.0,\n",
       "  decision_function_shape='ovr', degree=3, gamma=...alpha=0.01,\n",
       "       reg_lambda=5, scale_pos_weight=1, seed=None, silent=True,\n",
       "       subsample=0.9))],\n",
       "         flatten_transform=None, n_jobs=None, voting='hard', weights=None)"
      ]
     },
     "execution_count": 9,
     "metadata": {},
     "output_type": "execute_result"
    }
   ],
   "source": [
    "clf_stacking_op1.fit(x_train,y_train)"
   ]
  },
  {
   "cell_type": "markdown",
   "metadata": {},
   "source": [
    "Voting结果"
   ]
  },
  {
   "cell_type": "code",
   "execution_count": 10,
   "metadata": {},
   "outputs": [],
   "source": [
    "y_pre_stacking=clf_stacking_op1.predict(x_test)"
   ]
  },
  {
   "cell_type": "code",
   "execution_count": 11,
   "metadata": {},
   "outputs": [
    {
     "data": {
      "text/plain": [
       "array([[  0,   1,   5,   3,   0,   0,   0],\n",
       "       [  0,   7,  40,  22,   0,   0,   0],\n",
       "       [  0,   2, 487, 161,   5,   0,   0],\n",
       "       [  0,   0, 140, 669,  32,   1,   0],\n",
       "       [  0,   0,   5, 165, 142,   4,   0],\n",
       "       [  0,   0,   0,  27,  11,  18,   0],\n",
       "       [  0,   0,   0,   1,   2,   0,   0]], dtype=int64)"
      ]
     },
     "execution_count": 11,
     "metadata": {},
     "output_type": "execute_result"
    }
   ],
   "source": [
    "confusion_matrix(y_test, y_pre_stacking)"
   ]
  },
  {
   "cell_type": "code",
   "execution_count": 12,
   "metadata": {
    "scrolled": true
   },
   "outputs": [
    {
     "data": {
      "text/plain": [
       "0.6784615384615384"
      ]
     },
     "execution_count": 12,
     "metadata": {},
     "output_type": "execute_result"
    }
   ],
   "source": [
    "accuracy_score(y_test, y_pre_stacking)"
   ]
  },
  {
   "cell_type": "code",
   "execution_count": 13,
   "metadata": {},
   "outputs": [
    {
     "data": {
      "text/plain": [
       "0.49351677444771114"
      ]
     },
     "execution_count": 13,
     "metadata": {},
     "output_type": "execute_result"
    }
   ],
   "source": [
    "cohen_kappa_score(y_test, y_pre_stacking)"
   ]
  },
  {
   "cell_type": "markdown",
   "metadata": {},
   "source": [
    "Random Forests结果"
   ]
  },
  {
   "cell_type": "code",
   "execution_count": 14,
   "metadata": {},
   "outputs": [
    {
     "data": {
      "image/png": "[encoded data removed]",
      "text/plain": [
       "<Figure size 432x288 with 1 Axes>"
      ]
     },
     "metadata": {
      "needs_background": "light"
     },
     "output_type": "display_data"
    }
   ],
   "source": [
    "plt.barh(data.columns.values[:-1],clf_RF.feature_importances_)\n",
    "plt.show()"
   ]
  },
  {
   "cell_type": "code",
   "execution_count": 15,
   "metadata": {},
   "outputs": [],
   "source": [
    "y_pre_RF=clf_RF.predict(x_test)"
   ]
  },
  {
   "cell_type": "code",
   "execution_count": 16,
   "metadata": {},
   "outputs": [
    {
     "data": {
      "text/plain": [
       "array([[  0,   1,   6,   2,   0,   0,   0],\n",
       "       [  0,   8,  40,  21,   0,   0,   0],\n",
       "       [  0,   3, 481, 165,   6,   0,   0],\n",
       "       [  0,   0, 137, 663,  41,   1,   0],\n",
       "       [  0,   0,   9, 153, 150,   4,   0],\n",
       "       [  0,   0,   0,  23,  15,  18,   0],\n",
       "       [  0,   0,   0,   1,   2,   0,   0]], dtype=int64)"
      ]
     },
     "execution_count": 16,
     "metadata": {},
     "output_type": "execute_result"
    }
   ],
   "source": [
    "confusion_matrix(y_test, y_pre_RF)"
   ]
  },
  {
   "cell_type": "code",
   "execution_count": 18,
   "metadata": {},
   "outputs": [
    {
     "data": {
      "text/plain": [
       "0.676923076923077"
      ]
     },
     "execution_count": 18,
     "metadata": {},
     "output_type": "execute_result"
    }
   ],
   "source": [
    "accuracy_score(y_test, y_pre_RF)"
   ]
  },
  {
   "cell_type": "code",
   "execution_count": 17,
   "metadata": {},
   "outputs": [
    {
     "data": {
      "text/plain": [
       "0.49368789330889085"
      ]
     },
     "execution_count": 17,
     "metadata": {},
     "output_type": "execute_result"
    }
   ],
   "source": [
    "cohen_kappa_score(y_test, y_pre_RF)"
   ]
  },
  {
   "cell_type": "markdown",
   "metadata": {},
   "source": [
    "Bagging结果"
   ]
  },
  {
   "cell_type": "code",
   "execution_count": 19,
   "metadata": {},
   "outputs": [],
   "source": [
    "y_pre_Bagging=clf_Bagging.predict(x_test)"
   ]
  },
  {
   "cell_type": "code",
   "execution_count": 20,
   "metadata": {},
   "outputs": [
    {
     "data": {
      "text/plain": [
       "array([[  0,   1,   6,   2,   0,   0,   0],\n",
       "       [  0,   9,  43,  16,   1,   0,   0],\n",
       "       [  0,   3, 485, 159,   8,   0,   0],\n",
       "       [  0,   0, 141, 646,  51,   4,   0],\n",
       "       [  0,   0,  16, 144, 151,   5,   0],\n",
       "       [  0,   0,   0,  21,  17,  18,   0],\n",
       "       [  0,   0,   0,   2,   1,   0,   0]], dtype=int64)"
      ]
     },
     "execution_count": 20,
     "metadata": {},
     "output_type": "execute_result"
    }
   ],
   "source": [
    "confusion_matrix(y_test, y_pre_Bagging)"
   ]
  },
  {
   "cell_type": "code",
   "execution_count": 21,
   "metadata": {},
   "outputs": [
    {
     "data": {
      "text/plain": [
       "0.6712820512820513"
      ]
     },
     "execution_count": 21,
     "metadata": {},
     "output_type": "execute_result"
    }
   ],
   "source": [
    "accuracy_score(y_test, y_pre_Bagging)"
   ]
  },
  {
   "cell_type": "code",
   "execution_count": 22,
   "metadata": {},
   "outputs": [
    {
     "data": {
      "text/plain": [
       "0.48804894611683936"
      ]
     },
     "execution_count": 22,
     "metadata": {},
     "output_type": "execute_result"
    }
   ],
   "source": [
    "cohen_kappa_score(y_test, y_pre_Bagging)"
   ]
  },
  {
   "cell_type": "markdown",
   "metadata": {},
   "source": [
    "ExtraTrees结果"
   ]
  },
  {
   "cell_type": "code",
   "execution_count": 23,
   "metadata": {},
   "outputs": [
    {
     "data": {
      "image/png": "[encoded data removed]",
      "text/plain": [
       "<Figure size 432x288 with 1 Axes>"
      ]
     },
     "metadata": {
      "needs_background": "light"
     },
     "output_type": "display_data"
    }
   ],
   "source": [
    "plt.barh(data.columns.values[:-1],clf_ExtraTrees.feature_importances_)\n",
    "plt.show()"
   ]
  },
  {
   "cell_type": "code",
   "execution_count": 24,
   "metadata": {},
   "outputs": [],
   "source": [
    "y_pre_ExtraTrees=clf_ExtraTrees.predict(x_test)"
   ]
  },
  {
   "cell_type": "code",
   "execution_count": 25,
   "metadata": {},
   "outputs": [
    {
     "data": {
      "text/plain": [
       "array([[  0,   1,   6,   2,   0,   0,   0],\n",
       "       [  0,   9,  40,  20,   0,   0,   0],\n",
       "       [  0,   2, 484, 164,   5,   0,   0],\n",
       "       [  0,   0, 137, 672,  32,   1,   0],\n",
       "       [  0,   0,   6, 169, 137,   4,   0],\n",
       "       [  0,   0,   0,  26,  12,  18,   0],\n",
       "       [  0,   0,   0,   1,   2,   0,   0]], dtype=int64)"
      ]
     },
     "execution_count": 25,
     "metadata": {},
     "output_type": "execute_result"
    }
   ],
   "source": [
    "confusion_matrix(y_test, y_pre_ExtraTrees)"
   ]
  },
  {
   "cell_type": "code",
   "execution_count": 26,
   "metadata": {},
   "outputs": [
    {
     "data": {
      "text/plain": [
       "0.676923076923077"
      ]
     },
     "execution_count": 26,
     "metadata": {},
     "output_type": "execute_result"
    }
   ],
   "source": [
    "accuracy_score(y_test, y_pre_ExtraTrees)"
   ]
  },
  {
   "cell_type": "code",
   "execution_count": 27,
   "metadata": {},
   "outputs": [
    {
     "data": {
      "text/plain": [
       "0.49081793663760787"
      ]
     },
     "execution_count": 27,
     "metadata": {},
     "output_type": "execute_result"
    }
   ],
   "source": [
    "cohen_kappa_score(y_test, y_pre_ExtraTrees)"
   ]
  },
  {
   "cell_type": "markdown",
   "metadata": {},
   "source": [
    "XGBoost结果"
   ]
  },
  {
   "cell_type": "code",
   "execution_count": 28,
   "metadata": {},
   "outputs": [
    {
     "data": {
      "image/png": "[encoded data removed]",
      "text/plain": [
       "<Figure size 432x288 with 1 Axes>"
      ]
     },
     "metadata": {
      "needs_background": "light"
     },
     "output_type": "display_data"
    }
   ],
   "source": [
    "plt.barh(data.columns.values[:-1],clf_XGB.feature_importances_)\n",
    "plt.show()"
   ]
  },
  {
   "cell_type": "code",
   "execution_count": 29,
   "metadata": {},
   "outputs": [],
   "source": [
    "y_pre_XGB=clf_XGB.predict(x_test)"
   ]
  },
  {
   "cell_type": "code",
   "execution_count": 30,
   "metadata": {},
   "outputs": [
    {
     "data": {
      "text/plain": [
       "array([[  0,   1,   5,   3,   0,   0,   0],\n",
       "       [  0,   7,  41,  21,   0,   0,   0],\n",
       "       [  0,   2, 480, 167,   6,   0,   0],\n",
       "       [  0,   2, 143, 653,  44,   0,   0],\n",
       "       [  0,   0,   9, 153, 152,   2,   0],\n",
       "       [  0,   0,   0,  21,  17,  18,   0],\n",
       "       [  0,   0,   0,   0,   3,   0,   0]], dtype=int64)"
      ]
     },
     "execution_count": 30,
     "metadata": {},
     "output_type": "execute_result"
    }
   ],
   "source": [
    "confusion_matrix(y_test, y_pre_XGB)"
   ]
  },
  {
   "cell_type": "code",
   "execution_count": 31,
   "metadata": {},
   "outputs": [
    {
     "data": {
      "text/plain": [
       "0.6717948717948717"
      ]
     },
     "execution_count": 31,
     "metadata": {},
     "output_type": "execute_result"
    }
   ],
   "source": [
    "accuracy_score(y_test, y_pre_XGB)"
   ]
  },
  {
   "cell_type": "code",
   "execution_count": 32,
   "metadata": {},
   "outputs": [
    {
     "data": {
      "text/plain": [
       "0.48624088880326244"
      ]
     },
     "execution_count": 32,
     "metadata": {},
     "output_type": "execute_result"
    }
   ],
   "source": [
    "cohen_kappa_score(y_test, y_pre_XGB)"
   ]
  }
 ],
 "metadata": {
  "kernelspec": {
   "display_name": "Python 3",
   "language": "python",
   "name": "python3"
  },
  "language_info": {
   "codemirror_mode": {
    "name": "ipython",
    "version": 3
   },
   "file_extension": ".py",
   "mimetype": "text/x-python",
   "name": "python",
   "nbconvert_exporter": "python",
   "pygments_lexer": "ipython3",
   "version": "3.6.6"
  }
 },
 "nbformat": 4,
 "nbformat_minor": 2
}
